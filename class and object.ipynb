{
 "cells": [
  {
   "cell_type": "code",
   "execution_count": 16,
   "id": "13ceef63",
   "metadata": {},
   "outputs": [],
   "source": [
    "class car:\n",
    "    pass"
   ]
  },
  {
   "cell_type": "code",
   "execution_count": 17,
   "id": "15da6dc0",
   "metadata": {},
   "outputs": [],
   "source": [
    "audiq7 = car()"
   ]
  },
  {
   "cell_type": "code",
   "execution_count": 18,
   "id": "c38cc2af",
   "metadata": {},
   "outputs": [],
   "source": [
    "audiq7.mileage = 10\n",
    "audiq7.year = 2020\n",
    "audiq7.make = 245\n",
    "audiq7.model = \"fsdf\""
   ]
  },
  {
   "cell_type": "code",
   "execution_count": 19,
   "id": "64380a15",
   "metadata": {},
   "outputs": [
    {
     "data": {
      "text/plain": [
       "10"
      ]
     },
     "execution_count": 19,
     "metadata": {},
     "output_type": "execute_result"
    }
   ],
   "source": [
    "audiq7.mileage"
   ]
  },
  {
   "cell_type": "code",
   "execution_count": 20,
   "id": "c8e6cf28",
   "metadata": {},
   "outputs": [],
   "source": [
    "nano = car()"
   ]
  },
  {
   "cell_type": "code",
   "execution_count": 21,
   "id": "98e9f95e",
   "metadata": {},
   "outputs": [],
   "source": [
    "nano.mileage = 20\n",
    "nano.year = 2018\n",
    "nano.make = 265\n",
    "nano.model = \"ace\"\n",
    "nano.engineno = 12345"
   ]
  },
  {
   "cell_type": "code",
   "execution_count": 22,
   "id": "221155b3",
   "metadata": {},
   "outputs": [
    {
     "name": "stdout",
     "output_type": "stream",
     "text": [
      "20 10\n"
     ]
    }
   ],
   "source": [
    "print(nano.mileage, audiq7.mileage)"
   ]
  },
  {
   "cell_type": "code",
   "execution_count": 23,
   "id": "04a886fa",
   "metadata": {},
   "outputs": [],
   "source": [
    "class car : #__init__ is a inbuilt function which is used for initilization\n",
    "    def __init__(self, mileage, year, make, model):\n",
    "        self.mileage = mileage\n",
    "        self.year = year\n",
    "        self.make = make\n",
    "        self.model = model\n",
    "        "
   ]
  },
  {
   "cell_type": "code",
   "execution_count": 24,
   "id": "33ec089f",
   "metadata": {},
   "outputs": [],
   "source": [
    "nano1 = car(20,2020,125,\"klm\")\n",
    "audiq71 = car(10,2012,45,\"hju\")"
   ]
  },
  {
   "cell_type": "code",
   "execution_count": 25,
   "id": "a4aac090",
   "metadata": {},
   "outputs": [
    {
     "data": {
      "text/plain": [
       "20"
      ]
     },
     "execution_count": 25,
     "metadata": {},
     "output_type": "execute_result"
    }
   ],
   "source": [
    "nano1.mileage"
   ]
  },
  {
   "cell_type": "code",
   "execution_count": 26,
   "id": "9a1a8ed0",
   "metadata": {},
   "outputs": [],
   "source": [
    "class car : ## first parameter is behaves as pointer to a class which is nothing but a \"self\"\n",
    "    def __init__(mileage, year, make, model):\n",
    "        self.mileage = mileage\n",
    "        self.year = year\n",
    "        self.make = make\n",
    "        self.model = model\n",
    "        "
   ]
  },
  {
   "cell_type": "code",
   "execution_count": 27,
   "id": "9658a946",
   "metadata": {},
   "outputs": [],
   "source": [
    "class car : # init is a inbuilt function which is used for initilization\n",
    "    def __init__(a, mileage, year, make, model):\n",
    "        a.mileage = mileage\n",
    "        a.year = year\n",
    "        a.make = make\n",
    "        a.model = model\n",
    "        "
   ]
  },
  {
   "cell_type": "code",
   "execution_count": 28,
   "id": "8a3efed0",
   "metadata": {},
   "outputs": [],
   "source": [
    "class car : \n",
    "    def __init__(a, m, y, ma, mo): ##arguments\n",
    "        a.mileage = m\n",
    "        a.year = y\n",
    "        a.make = ma\n",
    "        a.model = mo\n",
    "        "
   ]
  },
  {
   "cell_type": "code",
   "execution_count": 29,
   "id": "a759d6c2",
   "metadata": {},
   "outputs": [],
   "source": [
    "nano67 = car(20,2020,458,\"kol\")"
   ]
  },
  {
   "cell_type": "code",
   "execution_count": 30,
   "id": "98d02ae2",
   "metadata": {},
   "outputs": [
    {
     "ename": "AttributeError",
     "evalue": "'car' object has no attribute 'm'",
     "output_type": "error",
     "traceback": [
      "\u001b[1;31m---------------------------------------------------------------------------\u001b[0m",
      "\u001b[1;31mAttributeError\u001b[0m                            Traceback (most recent call last)",
      "\u001b[1;32mC:\\Users\\SAIRAM~1\\AppData\\Local\\Temp/ipykernel_3116/2047575449.py\u001b[0m in \u001b[0;36m<module>\u001b[1;34m\u001b[0m\n\u001b[1;32m----> 1\u001b[1;33m \u001b[0mnano67\u001b[0m\u001b[1;33m.\u001b[0m\u001b[0mm\u001b[0m\u001b[1;33m\u001b[0m\u001b[1;33m\u001b[0m\u001b[0m\n\u001b[0m",
      "\u001b[1;31mAttributeError\u001b[0m: 'car' object has no attribute 'm'"
     ]
    }
   ],
   "source": [
    "nano67.m"
   ]
  },
  {
   "cell_type": "code",
   "execution_count": 31,
   "id": "b4f8ec85",
   "metadata": {},
   "outputs": [
    {
     "data": {
      "text/plain": [
       "20"
      ]
     },
     "execution_count": 31,
     "metadata": {},
     "output_type": "execute_result"
    }
   ],
   "source": [
    "nano67.mileage"
   ]
  },
  {
   "cell_type": "code",
   "execution_count": 32,
   "id": "cd36c699",
   "metadata": {},
   "outputs": [],
   "source": [
    "class car : \n",
    "    def __init__(a, m, y, ma, mo): ##arguments\n",
    "        a.mileage = m\n",
    "        a.year = y\n",
    "        a.make = ma\n",
    "        a.model = mo\n",
    "        \n",
    "    def age(self,current_year):\n",
    "        return current_year - self.year"
   ]
  },
  {
   "cell_type": "code",
   "execution_count": 33,
   "id": "cc662ea7",
   "metadata": {},
   "outputs": [],
   "source": [
    "nano67 = car(20,1995,2563,\"uio\")"
   ]
  },
  {
   "cell_type": "code",
   "execution_count": 34,
   "id": "c60e2a76",
   "metadata": {},
   "outputs": [
    {
     "data": {
      "text/plain": [
       "26"
      ]
     },
     "execution_count": 34,
     "metadata": {},
     "output_type": "execute_result"
    }
   ],
   "source": [
    "nano67.age(2021)"
   ]
  },
  {
   "cell_type": "code",
   "execution_count": 35,
   "id": "44993608",
   "metadata": {},
   "outputs": [],
   "source": [
    "class car : \n",
    "    def __init__(a, m, y, ma, mo): ##arguments\n",
    "        a.mileage = m\n",
    "        a.year = y\n",
    "        a.make = ma\n",
    "        a.model = mo\n",
    "        \n",
    "    def age(b,current_year):\n",
    "        return current_year - b.year"
   ]
  },
  {
   "cell_type": "code",
   "execution_count": 36,
   "id": "0e3a4b34",
   "metadata": {},
   "outputs": [
    {
     "data": {
      "text/plain": [
       "27"
      ]
     },
     "execution_count": 36,
     "metadata": {},
     "output_type": "execute_result"
    }
   ],
   "source": [
    "nano67.age(2022)"
   ]
  },
  {
   "cell_type": "code",
   "execution_count": 50,
   "id": "7041a2ae",
   "metadata": {},
   "outputs": [],
   "source": [
    "class car : \n",
    "    def __init__(a, m, y, ma, mo): ##arguments\n",
    "        a.mileage = m\n",
    "        a.year = y\n",
    "        a.make = ma\n",
    "        a.model = mo\n",
    "        \n",
    "    def age(b,current_year):\n",
    "        return current_year - b.year\n",
    "    \n",
    "    def mileage1(self):\n",
    "        print(\"print a mileage of car\" , self.mileage)\n",
    "        #return s(self.mileage)\n",
    "        \n",
    "    def __str__(c):\n",
    "        return \"this is my car class which i have created\""
   ]
  },
  {
   "cell_type": "code",
   "execution_count": 51,
   "id": "12a0cc31",
   "metadata": {},
   "outputs": [],
   "source": [
    "nano67 = car(20,1995,2563,\"uio\")"
   ]
  },
  {
   "cell_type": "code",
   "execution_count": 52,
   "id": "cb504ec5",
   "metadata": {},
   "outputs": [
    {
     "name": "stdout",
     "output_type": "stream",
     "text": [
      "print a mileage of car 20\n"
     ]
    }
   ],
   "source": [
    "nano67.mileage1()"
   ]
  },
  {
   "cell_type": "code",
   "execution_count": 53,
   "id": "a06cd1a3",
   "metadata": {},
   "outputs": [
    {
     "data": {
      "text/plain": [
       "<__main__.car at 0x232cc2de610>"
      ]
     },
     "execution_count": 53,
     "metadata": {},
     "output_type": "execute_result"
    }
   ],
   "source": [
    "nano67"
   ]
  },
  {
   "cell_type": "code",
   "execution_count": 54,
   "id": "25868462",
   "metadata": {},
   "outputs": [
    {
     "name": "stdout",
     "output_type": "stream",
     "text": [
      "this is my car class which i have created\n"
     ]
    }
   ],
   "source": [
    "print(nano67)"
   ]
  },
  {
   "cell_type": "code",
   "execution_count": 72,
   "id": "2460197a",
   "metadata": {},
   "outputs": [],
   "source": [
    "class student:\n",
    "    \n",
    "    def __init__(self,name,rollno, joining_date, current_topic):\n",
    "        self.name = name\n",
    "        self.rollno = rollno\n",
    "        self.joining_date = joining_date\n",
    "        self.current_topic = current_topic\n",
    "        \n",
    "    def name_parsing(self):\n",
    "        if type(self.name) == list :\n",
    "            for i in self.name:\n",
    "                print(\"name of the student \", i)\n",
    "        else:\n",
    "            print(\"provided is not in the form of list \")\n",
    "    \n",
    "    def crt_topic(self):\n",
    "        print(\"current topic is discussed in my class is \", self.current_topic)\n",
    "        \n",
    "    def str_rollno(self):\n",
    "        \n",
    "        try:\n",
    "            \n",
    "            if type(self.rollno) ==str:\n",
    "                print(\"do nothing\")\n",
    "            else:\n",
    "                return str(self.rollno)\n",
    "        \n",
    "        except Exception as e:\n",
    "            \n",
    "            print(\"this is my error msg\", e)\n",
    "        \n",
    "    def duration(self,current_date):\n",
    "        print(\"duration of student in my class is \", current_date - self.joining_date)\n",
    "        \n",
    "    def __str__(self):\n",
    "        \n",
    "        return \"this is student class where they can try to input their own data and can able to fetch the data \"\n",
    "        "
   ]
  },
  {
   "cell_type": "code",
   "execution_count": 73,
   "id": "56599634",
   "metadata": {},
   "outputs": [],
   "source": [
    "Ram = student(\"Ram\",845855,2022,\"oops\")"
   ]
  },
  {
   "cell_type": "code",
   "execution_count": 74,
   "id": "ec96d435",
   "metadata": {},
   "outputs": [
    {
     "name": "stdout",
     "output_type": "stream",
     "text": [
      "duration of student in my class is  0\n"
     ]
    }
   ],
   "source": [
    "Ram.duration(2022)"
   ]
  },
  {
   "cell_type": "code",
   "execution_count": 75,
   "id": "ed1e2de4",
   "metadata": {},
   "outputs": [
    {
     "data": {
      "text/plain": [
       "'845855'"
      ]
     },
     "execution_count": 75,
     "metadata": {},
     "output_type": "execute_result"
    }
   ],
   "source": [
    "Ram.str_rollno()"
   ]
  },
  {
   "cell_type": "code",
   "execution_count": 76,
   "id": "3ecb514d",
   "metadata": {},
   "outputs": [
    {
     "name": "stdout",
     "output_type": "stream",
     "text": [
      "this is student class where they can try to input their own data and can able to fetch the data \n"
     ]
    }
   ],
   "source": [
    "print(Ram)"
   ]
  },
  {
   "cell_type": "code",
   "execution_count": 77,
   "id": "88650451",
   "metadata": {},
   "outputs": [],
   "source": [
    "marur = student(\"marur\",\"df\",654,785)"
   ]
  },
  {
   "cell_type": "code",
   "execution_count": 78,
   "id": "9f2f8557",
   "metadata": {},
   "outputs": [
    {
     "name": "stdout",
     "output_type": "stream",
     "text": [
      "do nothing\n"
     ]
    }
   ],
   "source": [
    "marur.str_rollno()"
   ]
  },
  {
   "cell_type": "code",
   "execution_count": 79,
   "id": "bb4c1b08",
   "metadata": {},
   "outputs": [],
   "source": [
    "pawan = student([\"naveen\",\"jay\",\"himanshu\",\"prakash\"],[111,112,113,114],2022,\"oops\")"
   ]
  },
  {
   "cell_type": "code",
   "execution_count": 84,
   "id": "699529a8",
   "metadata": {},
   "outputs": [
    {
     "name": "stdout",
     "output_type": "stream",
     "text": [
      "name of the student  naveen\n",
      "name of the student  jay\n",
      "name of the student  himanshu\n",
      "name of the student  prakash\n"
     ]
    }
   ],
   "source": [
    "pawan.name_parsing()"
   ]
  },
  {
   "cell_type": "code",
   "execution_count": null,
   "id": "a746ecbb",
   "metadata": {},
   "outputs": [],
   "source": []
  },
  {
   "cell_type": "code",
   "execution_count": 94,
   "id": "20c09a55",
   "metadata": {},
   "outputs": [],
   "source": [
    "## level--1\n",
    "\n",
    "class data:\n",
    "    \n",
    "    def __init__(self,file_name,file_type,date,size):\n",
    "        \n",
    "        self.file_name = file_name\n",
    "        self.file_type = file_type\n",
    "        self.date = date\n",
    "        self.size = size\n",
    "        \n",
    "    def file_open(self):\n",
    "        \n",
    "        f = open(self.file_name,'w')\n",
    "        f.write(\"This is my test file\")\n",
    "        f.close()\n",
    "        \n",
    "    def file_read(self):\n",
    "        \n",
    "        f = open(self.file_name,'r')\n",
    "        print(f.read())\n",
    "        f.close()\n",
    "        \n",
    "    def file_append(self):\n",
    "        \n",
    "        f = open(self.file_name,'a')\n",
    "        f.write(\"---appending data to file \")\n",
    "        f.close()\n",
    "        \n",
    "        \n",
    "    def __str__(self):\n",
    "        \n",
    "        return \"this is data class created by me\"\n",
    "    "
   ]
  },
  {
   "cell_type": "code",
   "execution_count": 95,
   "id": "0ef812aa",
   "metadata": {},
   "outputs": [
    {
     "name": "stdout",
     "output_type": "stream",
     "text": [
      "This is my test file\n"
     ]
    }
   ],
   "source": [
    "file1 = data('file1','txt','19-01-2022','2MB')\n",
    "file1.file_open()\n",
    "file1.file_read()\n",
    "file1.file_append()"
   ]
  },
  {
   "cell_type": "code",
   "execution_count": null,
   "id": "fb396711",
   "metadata": {},
   "outputs": [],
   "source": []
  },
  {
   "cell_type": "code",
   "execution_count": 93,
   "id": "62e74604",
   "metadata": {},
   "outputs": [],
   "source": [
    "## level-2\n",
    "\n",
    "class data:\n",
    "    \n",
    "    def __init__(self,file_name,file_type,date,size):\n",
    "        \n",
    "        self.file_name = file_name\n",
    "        self.file_type = file_type\n",
    "        self.date = date\n",
    "        self.size = size\n",
    "        \n",
    "    def file_open(self):\n",
    "        \n",
    "        try:\n",
    "            with open(f\"{self.file_name}.txt\",\"w\") as wr:\n",
    "                wr.write(\" hi i am a student of ineuron \")\n",
    "        \n",
    "        except Exception as e:\n",
    "            print(e)\n",
    "        \n",
    "    def file_read(self):\n",
    "        \n",
    "        try:\n",
    "            with open(f\"{self.file_name}.txt\",\"r\") as wr:\n",
    "                for line in wr:\n",
    "                    print(line)\n",
    "                    \n",
    "        except Exception as e:\n",
    "            print(e)\n",
    "        \n",
    "    def file_append(self):\n",
    "        \n",
    "        try:\n",
    "            with open(f\"{self.file_name}.txt\", \"a\") as wr:\n",
    "                wr.write(\" hi i am student of ineuron 2\")\n",
    "        \n",
    "        except Exception as e:\n",
    "            print(e)\n",
    "        \n",
    "        \n",
    "    def __str__(self):\n",
    "        \n",
    "        return \"this task was given during OOPS class \"\n",
    "    "
   ]
  },
  {
   "cell_type": "code",
   "execution_count": 102,
   "id": "b5b8f2ff",
   "metadata": {},
   "outputs": [],
   "source": [
    "import os.path\n",
    "\n",
    "class data:\n",
    "    def __init__(self,file_name,file_type,date,size):\n",
    "        self.file_name = file_name\n",
    "        self.file_type = file_type\n",
    "        self.date = date\n",
    "        self.size = size\n",
    "    def file_open(self):\n",
    "        if os.path.isfile(self.file_name):\n",
    "            with open(self.file_name)as f:\n",
    "                f.read()\n",
    "        else:\n",
    "            with open(self.file_name,'w+')as f:\n",
    "                f.write('I am writing')\n",
    "    def file_read(self):\n",
    "        with open(self.file_name,'r')as f:\n",
    "            f.read()"
   ]
  },
  {
   "cell_type": "code",
   "execution_count": 103,
   "id": "0172ae5f",
   "metadata": {},
   "outputs": [],
   "source": [
    "import logging as lg\n",
    "lg.basicConfig(filename='OOPS.log',level=lg.ERROR)\n",
    "class data:\n",
    "    def __init__(self,fileName,fileType,data,size):\n",
    "        self.fileName = fileName\n",
    "        self.fileType = fileType\n",
    "        self.data = data\n",
    "        self.size = size\n",
    "    \n",
    "    def File_open(self):\n",
    "        try:\n",
    "            with open(self.fileName+self.fileType,'w') as f:\n",
    "                f.write(self.data)\n",
    "        except Exception as e:\n",
    "            self.logging(e)\n",
    "    def File_read(self):\n",
    "        try:\n",
    "            with open(self.fileName+self.fileType,'r') as f:\n",
    "                f.read()\n",
    "        except FileNotFoundError as e:\n",
    "            self.logging(e)\n",
    "        except Exception as e:\n",
    "            self.logging(e)\n",
    "    def File_append(self,data):\n",
    "        try:\n",
    "            with open(self.fileName+self.fileType, 'a') as f:\n",
    "                f.write(data)\n",
    "        except FileNotFoundError as e:\n",
    "            self.logging(e)\n",
    "        except Exception as e:\n",
    "            self.logging(e)\n",
    "            \n",
    "    def logging(self,log):\n",
    "        lg.error(log)\n",
    "        \n",
    "d = data('d','.txt','hi',2)\n",
    "d.File_open()\n",
    "d.File_append('op')\n",
    "        "
   ]
  },
  {
   "cell_type": "code",
   "execution_count": null,
   "id": "dea50dc0",
   "metadata": {},
   "outputs": [],
   "source": []
  },
  {
   "cell_type": "code",
   "execution_count": null,
   "id": "ec32558f",
   "metadata": {},
   "outputs": [],
   "source": []
  },
  {
   "cell_type": "code",
   "execution_count": null,
   "id": "1865d5e2",
   "metadata": {},
   "outputs": [],
   "source": []
  }
 ],
 "metadata": {
  "kernelspec": {
   "display_name": "Python 3 (ipykernel)",
   "language": "python",
   "name": "python3"
  },
  "language_info": {
   "codemirror_mode": {
    "name": "ipython",
    "version": 3
   },
   "file_extension": ".py",
   "mimetype": "text/x-python",
   "name": "python",
   "nbconvert_exporter": "python",
   "pygments_lexer": "ipython3",
   "version": "3.9.7"
  }
 },
 "nbformat": 4,
 "nbformat_minor": 5
}
