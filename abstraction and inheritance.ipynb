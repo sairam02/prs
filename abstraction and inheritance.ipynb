{
 "cells": [
  {
   "cell_type": "code",
   "execution_count": 13,
   "id": "80c201a8",
   "metadata": {},
   "outputs": [],
   "source": [
    "class test:\n",
    "    def __init__(self,a , b, c, d ):\n",
    "        self.__a = a  #\n",
    "        self.b = b\n",
    "        self.c = c\n",
    "        self.d = d\n",
    "        \n",
    "    def test_custom(self, v ):\n",
    "        return v - self.__a\n",
    "    \n",
    "    def __str__(self):\n",
    "        return \"this is my test code for abstraction \""
   ]
  },
  {
   "cell_type": "code",
   "execution_count": 14,
   "id": "672a3b89",
   "metadata": {},
   "outputs": [],
   "source": [
    "## abstraction private variable within the class, protecting our variables class methods _protected*, __private\n"
   ]
  },
  {
   "cell_type": "code",
   "execution_count": 15,
   "id": "d5a01192",
   "metadata": {},
   "outputs": [],
   "source": [
    "o = test(4,5,6,7)"
   ]
  },
  {
   "cell_type": "code",
   "execution_count": 16,
   "id": "e759feb2",
   "metadata": {},
   "outputs": [
    {
     "data": {
      "text/plain": [
       "3"
      ]
     },
     "execution_count": 16,
     "metadata": {},
     "output_type": "execute_result"
    }
   ],
   "source": [
    "o.test_custom(7)"
   ]
  },
  {
   "cell_type": "code",
   "execution_count": 17,
   "id": "dddad677",
   "metadata": {},
   "outputs": [
    {
     "name": "stdout",
     "output_type": "stream",
     "text": [
      "this is my test code for abstraction \n"
     ]
    }
   ],
   "source": [
    "print(o)"
   ]
  },
  {
   "cell_type": "code",
   "execution_count": 18,
   "id": "a0a2f75c",
   "metadata": {},
   "outputs": [
    {
     "ename": "AttributeError",
     "evalue": "'test' object has no attribute 'a'",
     "output_type": "error",
     "traceback": [
      "\u001b[1;31m---------------------------------------------------------------------------\u001b[0m",
      "\u001b[1;31mAttributeError\u001b[0m                            Traceback (most recent call last)",
      "\u001b[1;32mC:\\Users\\SAIRAM~1\\AppData\\Local\\Temp/ipykernel_24532/1467817899.py\u001b[0m in \u001b[0;36m<module>\u001b[1;34m\u001b[0m\n\u001b[1;32m----> 1\u001b[1;33m \u001b[0mo\u001b[0m\u001b[1;33m.\u001b[0m\u001b[0ma\u001b[0m\u001b[1;33m\u001b[0m\u001b[1;33m\u001b[0m\u001b[0m\n\u001b[0m",
      "\u001b[1;31mAttributeError\u001b[0m: 'test' object has no attribute 'a'"
     ]
    }
   ],
   "source": [
    "o.a"
   ]
  },
  {
   "cell_type": "code",
   "execution_count": 19,
   "id": "e7c1ba73",
   "metadata": {},
   "outputs": [
    {
     "ename": "AttributeError",
     "evalue": "'test' object has no attribute '_a'",
     "output_type": "error",
     "traceback": [
      "\u001b[1;31m---------------------------------------------------------------------------\u001b[0m",
      "\u001b[1;31mAttributeError\u001b[0m                            Traceback (most recent call last)",
      "\u001b[1;32mC:\\Users\\SAIRAM~1\\AppData\\Local\\Temp/ipykernel_24532/3365955476.py\u001b[0m in \u001b[0;36m<module>\u001b[1;34m\u001b[0m\n\u001b[1;32m----> 1\u001b[1;33m \u001b[0mo\u001b[0m\u001b[1;33m.\u001b[0m\u001b[0m_a\u001b[0m\u001b[1;33m\u001b[0m\u001b[1;33m\u001b[0m\u001b[0m\n\u001b[0m",
      "\u001b[1;31mAttributeError\u001b[0m: 'test' object has no attribute '_a'"
     ]
    }
   ],
   "source": [
    "o._a"
   ]
  },
  {
   "cell_type": "code",
   "execution_count": 20,
   "id": "986f338c",
   "metadata": {},
   "outputs": [
    {
     "ename": "AttributeError",
     "evalue": "'test' object has no attribute '__a'",
     "output_type": "error",
     "traceback": [
      "\u001b[1;31m---------------------------------------------------------------------------\u001b[0m",
      "\u001b[1;31mAttributeError\u001b[0m                            Traceback (most recent call last)",
      "\u001b[1;32mC:\\Users\\SAIRAM~1\\AppData\\Local\\Temp/ipykernel_24532/924825990.py\u001b[0m in \u001b[0;36m<module>\u001b[1;34m\u001b[0m\n\u001b[1;32m----> 1\u001b[1;33m \u001b[0mo\u001b[0m\u001b[1;33m.\u001b[0m\u001b[0m__a\u001b[0m\u001b[1;33m\u001b[0m\u001b[1;33m\u001b[0m\u001b[0m\n\u001b[0m",
      "\u001b[1;31mAttributeError\u001b[0m: 'test' object has no attribute '__a'"
     ]
    }
   ],
   "source": [
    "o.__a"
   ]
  },
  {
   "cell_type": "code",
   "execution_count": 21,
   "id": "daa971cf",
   "metadata": {},
   "outputs": [
    {
     "data": {
      "text/plain": [
       "4"
      ]
     },
     "execution_count": 21,
     "metadata": {},
     "output_type": "execute_result"
    }
   ],
   "source": [
    "o._test__a"
   ]
  },
  {
   "cell_type": "code",
   "execution_count": null,
   "id": "f076450c",
   "metadata": {},
   "outputs": [],
   "source": []
  },
  {
   "cell_type": "markdown",
   "id": "4be5f50a",
   "metadata": {},
   "source": [
    "# Inheritance\n"
   ]
  },
  {
   "cell_type": "code",
   "execution_count": 24,
   "id": "a7b4a3cc",
   "metadata": {},
   "outputs": [],
   "source": [
    "#inheritance allows us to inherit the properties (functions, methods,classes) from parent to child"
   ]
  },
  {
   "cell_type": "code",
   "execution_count": 22,
   "id": "ec7a2278",
   "metadata": {},
   "outputs": [
    {
     "data": {
      "text/plain": [
       "6"
      ]
     },
     "execution_count": 22,
     "metadata": {},
     "output_type": "execute_result"
    }
   ],
   "source": [
    "class test1(test):\n",
    "    def __init__(self, j, *args):\n",
    "        super(test1,self).__init__(*args)\n",
    "        self.j = j\n",
    "        \n",
    "m = test1(4,5,6,7,8)\n",
    "m.b\n",
    "\n",
    "        "
   ]
  },
  {
   "cell_type": "code",
   "execution_count": 23,
   "id": "a94968a2",
   "metadata": {},
   "outputs": [
    {
     "data": {
      "text/plain": [
       "4"
      ]
     },
     "execution_count": 23,
     "metadata": {},
     "output_type": "execute_result"
    }
   ],
   "source": [
    "m.j"
   ]
  },
  {
   "cell_type": "code",
   "execution_count": 25,
   "id": "de6c14c2",
   "metadata": {},
   "outputs": [
    {
     "data": {
      "text/plain": [
       "7"
      ]
     },
     "execution_count": 25,
     "metadata": {},
     "output_type": "execute_result"
    }
   ],
   "source": [
    "m.c"
   ]
  },
  {
   "cell_type": "code",
   "execution_count": 26,
   "id": "25f6d7f4",
   "metadata": {},
   "outputs": [
    {
     "data": {
      "text/plain": [
       "8"
      ]
     },
     "execution_count": 26,
     "metadata": {},
     "output_type": "execute_result"
    }
   ],
   "source": [
    "m.d"
   ]
  },
  {
   "cell_type": "code",
   "execution_count": 30,
   "id": "ab8ca69b",
   "metadata": {},
   "outputs": [],
   "source": [
    "class test:\n",
    "    def __init__(self,a,b,c):\n",
    "        self.a = a\n",
    "        self.b = b\n",
    "        self.c = c\n",
    "        \n",
    "    def fun1(self, x):\n",
    "        self.x = \"this is function-1 \"\n",
    "        \n",
    "class test1:\n",
    "    def __init_(self,d,e,f):\n",
    "        self.d = d\n",
    "        self.e = e\n",
    "        self.f = f\n",
    "        \n",
    "    def fun2(self,y):\n",
    "        self.y = \"this is function-2 \"\n",
    "        \n",
    "        \n",
    "\n",
    "    \n",
    "        "
   ]
  },
  {
   "cell_type": "code",
   "execution_count": 29,
   "id": "4bd15bc7",
   "metadata": {},
   "outputs": [
    {
     "ename": "TypeError",
     "evalue": "__init__() missing 3 required positional arguments: 'a', 'b', and 'c'",
     "output_type": "error",
     "traceback": [
      "\u001b[1;31m---------------------------------------------------------------------------\u001b[0m",
      "\u001b[1;31mTypeError\u001b[0m                                 Traceback (most recent call last)",
      "\u001b[1;32mC:\\Users\\SAIRAM~1\\AppData\\Local\\Temp/ipykernel_24532/2452740359.py\u001b[0m in \u001b[0;36m<module>\u001b[1;34m\u001b[0m\n\u001b[1;32m----> 1\u001b[1;33m \u001b[1;32mclass\u001b[0m \u001b[0mtest2\u001b[0m\u001b[1;33m(\u001b[0m\u001b[0mtest\u001b[0m\u001b[1;33m,\u001b[0m\u001b[0mtest1\u001b[0m\u001b[1;33m)\u001b[0m\u001b[1;33m:\u001b[0m\u001b[1;33m\u001b[0m\u001b[1;33m\u001b[0m\u001b[0m\n\u001b[0m\u001b[0;32m      2\u001b[0m     \u001b[0mt1\u001b[0m \u001b[1;33m=\u001b[0m \u001b[0mtest\u001b[0m\u001b[1;33m(\u001b[0m\u001b[1;33m)\u001b[0m\u001b[1;33m\u001b[0m\u001b[1;33m\u001b[0m\u001b[0m\n\u001b[0;32m      3\u001b[0m     \u001b[0mt1\u001b[0m\u001b[1;33m.\u001b[0m\u001b[0mfun1\u001b[0m\u001b[1;33m(\u001b[0m\u001b[1;33m)\u001b[0m\u001b[1;33m\u001b[0m\u001b[1;33m\u001b[0m\u001b[0m\n\u001b[0;32m      4\u001b[0m \u001b[1;33m\u001b[0m\u001b[0m\n\u001b[0;32m      5\u001b[0m     \u001b[0mt2\u001b[0m \u001b[1;33m=\u001b[0m \u001b[0mtest1\u001b[0m\u001b[1;33m(\u001b[0m\u001b[1;33m)\u001b[0m\u001b[1;33m\u001b[0m\u001b[1;33m\u001b[0m\u001b[0m\n",
      "\u001b[1;32mC:\\Users\\SAIRAM~1\\AppData\\Local\\Temp/ipykernel_24532/2452740359.py\u001b[0m in \u001b[0;36mtest2\u001b[1;34m()\u001b[0m\n\u001b[0;32m      1\u001b[0m \u001b[1;32mclass\u001b[0m \u001b[0mtest2\u001b[0m\u001b[1;33m(\u001b[0m\u001b[0mtest\u001b[0m\u001b[1;33m,\u001b[0m\u001b[0mtest1\u001b[0m\u001b[1;33m)\u001b[0m\u001b[1;33m:\u001b[0m\u001b[1;33m\u001b[0m\u001b[1;33m\u001b[0m\u001b[0m\n\u001b[1;32m----> 2\u001b[1;33m     \u001b[0mt1\u001b[0m \u001b[1;33m=\u001b[0m \u001b[0mtest\u001b[0m\u001b[1;33m(\u001b[0m\u001b[1;33m)\u001b[0m\u001b[1;33m\u001b[0m\u001b[1;33m\u001b[0m\u001b[0m\n\u001b[0m\u001b[0;32m      3\u001b[0m     \u001b[0mt1\u001b[0m\u001b[1;33m.\u001b[0m\u001b[0mfun1\u001b[0m\u001b[1;33m(\u001b[0m\u001b[1;33m)\u001b[0m\u001b[1;33m\u001b[0m\u001b[1;33m\u001b[0m\u001b[0m\n\u001b[0;32m      4\u001b[0m \u001b[1;33m\u001b[0m\u001b[0m\n\u001b[0;32m      5\u001b[0m     \u001b[0mt2\u001b[0m \u001b[1;33m=\u001b[0m \u001b[0mtest1\u001b[0m\u001b[1;33m(\u001b[0m\u001b[1;33m)\u001b[0m\u001b[1;33m\u001b[0m\u001b[1;33m\u001b[0m\u001b[0m\n",
      "\u001b[1;31mTypeError\u001b[0m: __init__() missing 3 required positional arguments: 'a', 'b', and 'c'"
     ]
    }
   ],
   "source": [
    "class test2(test,test1):\n",
    "    def a(self):\n",
    "    t1.fun1()\n",
    "    \n",
    "    t2 = test1()\n",
    "    t2.fun2()\n",
    "    print(\"test2 class \")\n",
    "    \n",
    "t=test2()\n",
    "t.fun1"
   ]
  },
  {
   "cell_type": "code",
   "execution_count": 32,
   "id": "e29a6f11",
   "metadata": {},
   "outputs": [
    {
     "name": "stdout",
     "output_type": "stream",
     "text": [
      "iNeuron Company was esta in 2018\n"
     ]
    }
   ],
   "source": [
    "#single inheritance\n",
    "class Ineuron:\n",
    "    company_website = 'https://ineuron.ai/'\n",
    "    name = 'iNeuron'\n",
    "    \n",
    "    def contact_details(self):\n",
    "        print('Contact us at ', self.company_website)\n",
    "        \n",
    "class Datascience(Ineuron):\n",
    "    def __init__(self):\n",
    "        self.year_of_esta = 2018\n",
    "        \n",
    "    def est_details(self):\n",
    "        print('{0} Company was esta in {1}'\n",
    "             .format(self.name,self.year_of_esta))\n",
    "        \n",
    "ds = Datascience()\n",
    "ds.est_details()"
   ]
  },
  {
   "cell_type": "code",
   "execution_count": 34,
   "id": "b26ff3bc",
   "metadata": {},
   "outputs": [
    {
     "name": "stdout",
     "output_type": "stream",
     "text": [
      "multi_task\n",
      "Name: iNeuron\n"
     ]
    }
   ],
   "source": [
    "##multiple inheritance\n",
    "\n",
    "class OS:\n",
    "    multi_task = True\n",
    "    os_name = 'windows OS'\n",
    "    \n",
    "    \n",
    "class windows(OS, Ineuron):\n",
    "    def __init__(self):\n",
    "        if self.multi_task is True:\n",
    "            print('multi_task')\n",
    "        print('Name: {}'.format(self.name))\n",
    "        \n",
    "        \n",
    "windows = windows()"
   ]
  },
  {
   "cell_type": "code",
   "execution_count": 35,
   "id": "49d4b790",
   "metadata": {},
   "outputs": [
    {
     "name": "stdout",
     "output_type": "stream",
     "text": [
      "multi_task\n",
      "Name: ram \n"
     ]
    }
   ],
   "source": [
    "##multiple inheritance\n",
    "\n",
    "class OS:\n",
    "    multi_task = True\n",
    "    os_name = 'windows OS'\n",
    "    name = \"ram \"\n",
    "    \n",
    "    \n",
    "class windows(OS, Ineuron):\n",
    "    def __init__(self):\n",
    "        if self.multi_task is True:\n",
    "            print('multi_task')\n",
    "        print('Name: {}'.format(self.name))\n",
    "        \n",
    "        \n",
    "windows = windows()"
   ]
  },
  {
   "cell_type": "code",
   "execution_count": 36,
   "id": "227f5016",
   "metadata": {},
   "outputs": [
    {
     "name": "stdout",
     "output_type": "stream",
     "text": [
      "multi_task\n",
      "Name: iNeuron\n"
     ]
    }
   ],
   "source": [
    "#multiple inheritance, swapping classes it is giving priority to the classes\n",
    "class windows(Ineuron,OS):\n",
    "    def __init__(self):\n",
    "        if self.multi_task is True:\n",
    "            print('multi_task')\n",
    "        print('Name: {}'.format(self.name))\n",
    "        \n",
    "        \n",
    "windows = windows()"
   ]
  },
  {
   "cell_type": "code",
   "execution_count": 39,
   "id": "81a7cc97",
   "metadata": {},
   "outputs": [
    {
     "name": "stdout",
     "output_type": "stream",
     "text": [
      "the company iNeuron offers total 12 different types of courses.most trending course is Data-Science\n"
     ]
    }
   ],
   "source": [
    "##multi level class inheritance\n",
    "\n",
    "class iNeuron:\n",
    "    num_of_courses = 12\n",
    "    \n",
    "class Datascience(iNeuron):\n",
    "    course_type = 'Data-Science'\n",
    "    \n",
    "class AI(Datascience):\n",
    "    def __init__(self):\n",
    "        self.company = \"iNeuron\"\n",
    "        print('the company {0} offers total {1} different types of courses.most trending course is {2}'.format(self.company,self.num_of_courses,\n",
    "             self.course_type))\n",
    "        \n",
    "AI = AI()"
   ]
  },
  {
   "cell_type": "markdown",
   "id": "be462a77",
   "metadata": {},
   "source": [
    "# Encapsulation"
   ]
  },
  {
   "cell_type": "markdown",
   "id": "42b3b615",
   "metadata": {},
   "source": [
    "extending the classes and hiding the implementation"
   ]
  },
  {
   "cell_type": "code",
   "execution_count": 49,
   "id": "21e2fdfd",
   "metadata": {},
   "outputs": [],
   "source": [
    "class test:\n",
    "    def __init__(self,a,b,c):\n",
    "        self.a = a\n",
    "        self.b = b\n",
    "        self.c = c\n",
    "        \n",
    "    def __str__(self):\n",
    "        return \"this is return from my test class \"\n",
    "    \n",
    "class test1:\n",
    "    def __init__(self,a,b,c):\n",
    "        self.a = a\n",
    "        self.b = b\n",
    "        self.c = c\n",
    "        \n",
    "    def __str__(self):\n",
    "        return \"this is return from my test1 class \"\n",
    "\n",
    "class test2:\n",
    "    def __init__(self,a,b,c):\n",
    "        self.a = a\n",
    "        self.b = b\n",
    "        self.c = c\n",
    "        \n",
    "    def __str__(self):\n",
    "        return \"this is return from my test2 class \"\n",
    "    \n",
    "class final:\n",
    "    \n",
    "    def __init__(self,x,y,z):\n",
    "        \n",
    "        self.x = x\n",
    "        self.y = y\n",
    "        self.z = z\n",
    "        \n",
    "    def __str__(self):\n",
    "        \n",
    "        return str(self.x) + \" \" + str(self.y) + \" \" + str(self.z) + \" \"\n",
    "\n"
   ]
  },
  {
   "cell_type": "code",
   "execution_count": 50,
   "id": "cb8838f7",
   "metadata": {},
   "outputs": [],
   "source": [
    "t = test(4,5,6)\n",
    "t1 = test1(7,8,9)\n",
    "t2 = test2(10,11,12)\n",
    "f = final(t,t1,t2)\n"
   ]
  },
  {
   "cell_type": "code",
   "execution_count": 51,
   "id": "8e5ec3e6",
   "metadata": {},
   "outputs": [
    {
     "name": "stdout",
     "output_type": "stream",
     "text": [
      "this is return from my test class  this is return from my test1 class  this is return from my test2 class  \n"
     ]
    }
   ],
   "source": [
    "print(f)"
   ]
  },
  {
   "cell_type": "code",
   "execution_count": 54,
   "id": "06e1a5cb",
   "metadata": {},
   "outputs": [
    {
     "name": "stdout",
     "output_type": "stream",
     "text": [
      "this is return from my test class  this is return from my test1 class  ram \n"
     ]
    }
   ],
   "source": [
    "f = final(t,t1,\"ram\")\n",
    "print(f)"
   ]
  },
  {
   "cell_type": "markdown",
   "id": "955a91bf",
   "metadata": {},
   "source": [
    "    1.compostion encapsulation\n",
    "    2.dynamic encapsulation\n",
    "    3.Polymorphism\n",
    "    4.ducktyping\n",
    "    5.shallow deep copy"
   ]
  },
  {
   "cell_type": "code",
   "execution_count": null,
   "id": "3afeaf9c",
   "metadata": {},
   "outputs": [],
   "source": []
  },
  {
   "cell_type": "code",
   "execution_count": null,
   "id": "8f40364d",
   "metadata": {},
   "outputs": [],
   "source": []
  },
  {
   "cell_type": "code",
   "execution_count": null,
   "id": "682ff8ee",
   "metadata": {},
   "outputs": [],
   "source": []
  },
  {
   "cell_type": "markdown",
   "id": "c20eee3c",
   "metadata": {},
   "source": [
    "# DB Operations"
   ]
  },
  {
   "cell_type": "code",
   "execution_count": null,
   "id": "8d797137",
   "metadata": {},
   "outputs": [],
   "source": []
  },
  {
   "cell_type": "code",
   "execution_count": null,
   "id": "1324fdef",
   "metadata": {},
   "outputs": [],
   "source": [
    "import sqlite3\n",
    "\n",
    "class DataBaseOperations:\n",
    "\n",
    "    def __init__(self,databasename):\n",
    "        \n",
    "        self.databasename = databasename\n",
    "\n",
    "    def createDatabase(self):\n",
    "        try:\n",
    "            conn = sqlite3.connect(self.databasename)\n",
    "        except ConnectionError:\n",
    "            raise ConnectionError\n",
    "        return conn\n",
    "\n",
    "    def createTable(self,tablename,dictionaryOfcolumnNamesAndcolumnDatatypes):\n",
    "        try:\n",
    "            conn = self.createDatabase()\n",
    "            c = conn.cursor()\n",
    "            for key in dictionaryOfcolumnNamesAndcolumnDatatypes.keys():\n",
    "                datatype = dictionaryOfcolumnNamesAndcolumnDatatypes[key]\n",
    "                try:\n",
    "                    conn.execute(\n",
    "                        'ALTER TABLE {tableName} ADD COLUMN \"{column_name}\" {dataType}'.format(tableName=tablename,\n",
    "                                                                                               column_name=key,\n",
    "                                                                                               dataType=datatype))\n",
    "                except:\n",
    "                    conn.execute('CREATE TABLE {tableName} ({column_name} {dataType})'.format(tableName=tablename,\n",
    "                                                                                              column_name=key,\n",
    "                                                                                              dataType=datatype))\n",
    "            print(\"Table {0} created in database {1}\".format(tablename,self.databasename))\n",
    "            self.closeDbConnection(conn)\n",
    "            print(\"Connection to database closed!!\")\n",
    "        except Exception as e:\n",
    "            conn.rollback()\n",
    "            self.closeDbConnection(conn)\n",
    "            print(\"Connection to database closed!!\")\n",
    "\n",
    "            print(\"Exception occured: \" + str(e))\n",
    "\n",
    "    def insertIntoTable(self,tablename, listOfvaluesToInsert):\n",
    "        try:\n",
    "            conn = self.createDatabase()\n",
    "            conn.execute('INSERT INTO {tablename}  values ({values})'.format(tablename = tablename,values=(listOfvaluesToInsert)))\n",
    "            conn.commit()\n",
    "            print(\"Values Inserted Successfully!!!\")\n",
    "            self.closeDbConnection(conn)\n",
    "            print(\"Connection to database closed!!\")\n",
    "        except Exception as e:\n",
    "            conn.rollback()\n",
    "            self.closeDbConnection(conn)\n",
    "            print(\"Connection to database closed!!\")\n",
    "            print(\"Error occured: \" + str(e))\n",
    "\n",
    "        # self.closeDbconnection()\n",
    "    \n",
    "    def selectFromTable(self,tablename):\n",
    "\n",
    "        try:\n",
    "            conn = self.createDatabase()\n",
    "            c = conn.cursor()\n",
    "            c.execute(\"SELECT *  FROM {table}\".format(table=tablename))\n",
    "            print(\"values in table : \" ,c.fetchall())\n",
    "            self.closeDbConnection(conn)\n",
    "            print(\"Connection to database closed!!\")\n",
    "            \n",
    "        except Exception as e:\n",
    "            self.closeDbConnection(conn)\n",
    "            print(\"Connection to database closed!!\")\n",
    "            print(\"Error occured: \" + str(e))\n",
    "    \n",
    "    def closeDbConnection(self,connection):\n",
    "       \n",
    "        connection.close()"
   ]
  },
  {
   "cell_type": "code",
   "execution_count": null,
   "id": "b09b5da9",
   "metadata": {},
   "outputs": [],
   "source": []
  },
  {
   "cell_type": "code",
   "execution_count": null,
   "id": "953e045e",
   "metadata": {},
   "outputs": [],
   "source": []
  },
  {
   "cell_type": "code",
   "execution_count": null,
   "id": "34f4fab3",
   "metadata": {},
   "outputs": [],
   "source": []
  },
  {
   "cell_type": "code",
   "execution_count": null,
   "id": "c1a6cbed",
   "metadata": {},
   "outputs": [],
   "source": []
  },
  {
   "cell_type": "code",
   "execution_count": null,
   "id": "057bfd2c",
   "metadata": {},
   "outputs": [],
   "source": []
  },
  {
   "cell_type": "code",
   "execution_count": null,
   "id": "09f94976",
   "metadata": {},
   "outputs": [],
   "source": []
  },
  {
   "cell_type": "code",
   "execution_count": null,
   "id": "b0bfaceb",
   "metadata": {},
   "outputs": [],
   "source": []
  },
  {
   "cell_type": "code",
   "execution_count": null,
   "id": "69eff781",
   "metadata": {},
   "outputs": [],
   "source": []
  },
  {
   "cell_type": "code",
   "execution_count": null,
   "id": "cd298dcc",
   "metadata": {},
   "outputs": [],
   "source": []
  },
  {
   "cell_type": "code",
   "execution_count": null,
   "id": "28ea2a66",
   "metadata": {},
   "outputs": [],
   "source": []
  },
  {
   "cell_type": "code",
   "execution_count": null,
   "id": "1b00740d",
   "metadata": {},
   "outputs": [],
   "source": []
  },
  {
   "cell_type": "code",
   "execution_count": null,
   "id": "32c5f1c0",
   "metadata": {},
   "outputs": [],
   "source": []
  },
  {
   "cell_type": "code",
   "execution_count": null,
   "id": "5a2f3c35",
   "metadata": {},
   "outputs": [],
   "source": []
  },
  {
   "cell_type": "code",
   "execution_count": null,
   "id": "9e950aaf",
   "metadata": {},
   "outputs": [],
   "source": []
  },
  {
   "cell_type": "code",
   "execution_count": null,
   "id": "60618fb6",
   "metadata": {},
   "outputs": [],
   "source": []
  }
 ],
 "metadata": {
  "kernelspec": {
   "display_name": "Python 3 (ipykernel)",
   "language": "python",
   "name": "python3"
  },
  "language_info": {
   "codemirror_mode": {
    "name": "ipython",
    "version": 3
   },
   "file_extension": ".py",
   "mimetype": "text/x-python",
   "name": "python",
   "nbconvert_exporter": "python",
   "pygments_lexer": "ipython3",
   "version": "3.9.7"
  }
 },
 "nbformat": 4,
 "nbformat_minor": 5
}
